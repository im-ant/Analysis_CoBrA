{
 "cells": [
  {
   "cell_type": "code",
   "execution_count": 124,
   "metadata": {
    "collapsed": false
   },
   "outputs": [],
   "source": [
    "# ==================================================================\n",
    "# Script to analyse tractography-related statistics\n",
    "# ==================================================================\n",
    "import os\n",
    "import sys\n",
    "import glob #for wildcard matching\n",
    "import collections #for ordered dictionary\n",
    "import time\n",
    "import subprocess\n",
    "import nibabel as nib\n",
    "import numpy as np"
   ]
  },
  {
   "cell_type": "code",
   "execution_count": 125,
   "metadata": {
    "collapsed": false
   },
   "outputs": [
    {
     "name": "stdout",
     "output_type": "stream",
     "text": [
      "All is well\n"
     ]
    }
   ],
   "source": [
    "\"\"\"Anthony's notes\n",
    "- modules that needs to be loaded:\n",
    "    - qbatch/git\n",
    "    - FSL\n",
    "\n",
    "- during the initiation of the idx and pct file paths, it is ASSUMED that all input paths will:\n",
    "    - have a perfect correspondence of pct to idx paths for each subject\n",
    "        - both will appear in the same ordered after being sorted in the lists\n",
    "    - the second-to-last part deliminated by \"/\" will be the subject ID for both files\n",
    "- input file path assumptions\n",
    "    - there will be no period character (\".\") OTHER than for at the end\n",
    "    - there are two total period characters: \"filename.nii.gz\"\n",
    "\"\"\"\n",
    "print \"All is well\""
   ]
  },
  {
   "cell_type": "code",
   "execution_count": 134,
   "metadata": {
    "collapsed": false
   },
   "outputs": [],
   "source": [
    "# ==================================================================\n",
    "# Setup files and directories\n",
    "# ==================================================================\n",
    "\n",
    "\"\"\" Note on directory hierarchy for the input, reference and transform files \n",
    "parent_dir\n",
    "    |\n",
    "    +-- subj_dir_1 (as indicated by dir_wc)\n",
    "    |        |\n",
    "    |        +- file_of_interest (as indicated by *_file_name)\n",
    "    |\n",
    "    +-- subj_dir_2 ...\n",
    "\"\"\"\n",
    "\n",
    "#Variable indication how many component parcellation we want to use\n",
    "SEG_NUM = 10\n",
    "# ========================================\n",
    "# Input files for fslmaths and fslstats\n",
    "# ========================================\n",
    "in_parent_dir='/data/chamal/projects/anthony/nmf_parcellation/cortical_tractMap/seg'+str(SEG_NUM)+'_tract2voxel_probability_labels/model_space'\n",
    "in_dir_wc='[0-9][0-9][0-9][0-9][0-9][0-9]'\n",
    "idx_file_name = '*_region_seg_idx_modelSpace.nii.gz'\n",
    "pct_file_name = '*_region_seg_pct_modelSpace.nii.gz' \n",
    "\n",
    "# ========================================\n",
    "# Intermediate files\n",
    "# ========================================\n",
    "inter_parent_dir='/data/chamal/projects/anthony/nmf_parcellation/cortical_tractMap/seg'+str(SEG_NUM)+'_tract2voxel_probability_labels/tractAnalysis_model_space'\n",
    "csvDump_filename=\"seg\"+str(SEG_NUM)+\"_avgComponentWinPct_dump.csv\"\n",
    "\n",
    "# ========================================\n",
    "# JobDoc files\n",
    "# ========================================\n",
    "jobDoc_dir='/data/chamal/projects/anthony/qbatch_jobDocs/track_analysis_related'\n",
    "jobList_path_head=os.path.join(jobDoc_dir,'autoSubmit_seg%d_tract_compWinPct'%SEG_NUM)\n",
    "jobScript_stdev_name=''"
   ]
  },
  {
   "cell_type": "code",
   "execution_count": 135,
   "metadata": {
    "collapsed": false
   },
   "outputs": [
    {
     "name": "stdout",
     "output_type": "stream",
     "text": [
      "The parcellation component quantity is: 10\n",
      "idx_file_list length: 100\n",
      "pct_file_list length: 100\n",
      "\n",
      "100 subjects were initiated into the subjFile_Paths dictionary:\n",
      "100307 100408 101006 101107 101410 101915 102008 102311 102816 103111 105014 105115 105216 106016 106521 107321 107422 108121 108323 108525 109123 110411 111312 111413 111716 113215 113821 113922 114419 115320 116524 117122 118528 118730 118932 119833 120212 120515 121618 122317 122620 123117 123420 123925 124422 125525 126325 126628 127630 127933 128127 128632 129028 130013 130316 131217 131722 132118 133019 133827 134324 135225 135528 136227 136833 137027 138534 139233 140925 144832 146432 147030 147737 148840 148941 149741 150423 150524 150726 151223 151526 151627 151728 153833 154734 154835 154936 156233 156637 157437 158136 159239 159340 160830 161327 161630 162228 162733 163331 164030 \n",
      "\n",
      "Hopefully the above looks right!\n"
     ]
    }
   ],
   "source": [
    "# ==================================================================\n",
    "# Initiate paths of the two input files\n",
    "# ==================================================================\n",
    "\"\"\"Dictionary hierarchy\n",
    "subjFile_Paths\n",
    "    |\n",
    "    [\"100307\"]\n",
    "    |    |\n",
    "    |    [\"idx\"] -- path to 100307's idx file\n",
    "    |    [\"pct\"] -- path to 100307's pct file\n",
    "    |\n",
    "    [\"100408\"]\n",
    "    ...\n",
    "\"\"\"\n",
    "#Find all files on paths\n",
    "idx_file_list=glob.glob(os.path.join(in_parent_dir,in_dir_wc,idx_file_name))\n",
    "pct_file_list=glob.glob(os.path.join(in_parent_dir,in_dir_wc,pct_file_name))\n",
    "#Sort the two lists\n",
    "idx_file_list.sort()\n",
    "pct_file_list.sort()\n",
    "#Store the two files into a sorted dictionary\n",
    "subjFile_paths = collections.OrderedDict([]) #Initiate ordered dictionary\n",
    "for idx_file_path, pct_file_path in zip(idx_file_list, pct_file_list):\n",
    "    #Store the file paths in a temp dictionary\n",
    "    temp_dict = {}\n",
    "    temp_dict['idx'] = idx_file_path\n",
    "    temp_dict['pct'] = pct_file_path\n",
    "    #Check for subject ID and that they match up\n",
    "    temp_subj_ID = idx_file_path.split('/')[-2]\n",
    "    if pct_file_path.split('/')[-2] != temp_subj_ID: #If the two file IDs do not match\n",
    "        print \"Something went wrong in the pct and idx file matching for ID: %s\" % (temp_subj_ID)\n",
    "    #Add the temporary dictionary to the sorted dictionary\n",
    "    subjFile_paths[temp_subj_ID] = temp_dict\n",
    "\n",
    "#Let user know \n",
    "print \"The parcellation component quantity is: %d\" % SEG_NUM\n",
    "print \"idx_file_list length: %d\" % len(idx_file_list)\n",
    "print \"pct_file_list length: %d\" % len(pct_file_list)\n",
    "print \"\\n%d subjects were initiated into the subjFile_Paths dictionary:\" % len(subjFile_paths)\n",
    "for key in subjFile_paths:\n",
    "    print key,\n",
    "print \"\\n\\nHopefully the above looks right!\""
   ]
  },
  {
   "cell_type": "code",
   "execution_count": null,
   "metadata": {
    "collapsed": true
   },
   "outputs": [],
   "source": [
    "\"\"\"Note on Fri, June 9\n",
    "- need to write extra step to remove the thalamus mask form the tracts!\n",
    "\n",
    "\"\"\""
   ]
  },
  {
   "cell_type": "code",
   "execution_count": 136,
   "metadata": {
    "collapsed": false
   },
   "outputs": [
    {
     "name": "stdout",
     "output_type": "stream",
     "text": [
      "Intermediate directory not found, created one at: /data/chamal/projects/anthony/nmf_parcellation/cortical_tractMap/seg10_tract2voxel_probability_labels/tractAnalysis_model_space\n",
      "\n",
      "Opening and writing to joblist files: /data/chamal/projects/anthony/qbatch_jobDocs/track_analysis_related/autoSubmitted_seg5_tractAnalysis.sub\n",
      "\n",
      "Finished writing to joblist file\n",
      "\n",
      "Reference lists created:\n",
      "\tbinarizedComp_path_list - length: 1000\n",
      "\tpct_comp_path_list - length: 1000\n",
      "\tindv_csv_path_list - length: 100\n"
     ]
    }
   ],
   "source": [
    "# ==================================================================\n",
    "# Generate the jobs needed to calculate everyone's component average\n",
    "# ==================================================================\n",
    "\n",
    "#Check to see if the output parent directory is present, if not create it\n",
    "if os.path.isdir(inter_parent_dir):\n",
    "    print \"Intermediate directory found: %s\" % inter_parent_dir\n",
    "else:\n",
    "    os.mkdir(inter_parent_dir)\n",
    "    print \"Intermediate directory not found, created one at: %s\"% inter_parent_dir\n",
    "\n",
    "#Create the path to the .csv file to dump all of the pct averages\n",
    "csvDump_path_tail = os.path.join(inter_parent_dir, csvDump_filename)\n",
    "\n",
    "#Create the paths to the 3 sequential files needed to get the mean\n",
    "binarize_outPath = jobList_path_head + \"_pt1-binarize.sub\"\n",
    "mul_outPath = jobList_path_head + \"_pt2-multiply.sub\"\n",
    "avgCalc_outPath = jobList_path_head + \"_pt3-calculateAverage.sub\"\n",
    "\n",
    "#Open the jobList document to write to\n",
    "print \"\\nOpening and writing to joblist files: %s\" % jobList_path\n",
    "binarize_out = open(binarize_outPath, 'w')\n",
    "mul_out = open(mul_outPath, 'w')\n",
    "avgCalc_out = open(avgCalc_outPath, 'w')\n",
    "\n",
    "#Lists to store all generated file paths for later reference (during auto-submission)\n",
    "binarizedComp_path_list = []\n",
    "pct_comp_path_list = []\n",
    "indv_csv_path_list = []\n",
    "\n",
    "#Iterate through each subject\n",
    "for subj in subjFile_paths:\n",
    "    #Check to see if the output directory is present, if not create it\n",
    "    subj_dir_path = os.path.join(inter_parent_dir, subj)\n",
    "    if not os.path.isdir(subj_dir_path):\n",
    "        os.mkdir(subj_dir_path)\n",
    "        \n",
    "    #Generate an individual csv file for this subject\n",
    "    csvDump_path = os.path.join(inter_parent_dir, str(subj)+\"_indv_\"+csvDump_filename)\n",
    "    #Store the path to the csv file for later reference\n",
    "    indv_csv_path_list.append(csvDump_path)\n",
    "    \n",
    "    #Get the input files\n",
    "    idxPath = subjFile_paths[subj]['idx']\n",
    "    pctPath = subjFile_paths[subj]['pct']\n",
    "    \n",
    "    #Iterate through each component\n",
    "    for comp_num in range(1,SEG_NUM+1):\n",
    "        #Generate the output file paths\n",
    "        binarizedComp_name = idxPath.split('/')[-1].split('.')[0]+\"_comp\"+str(comp_num)+\"_binarized.nii.gz\"\n",
    "        binarizedComp_outPath = os.path.join(subj_dir_path, binarizedComp_name )\n",
    "        pct_comp_name = pctPath.split('/')[-1].split('.')[0]+\"_comp\"+str(comp_num)+\".nii.gz\"\n",
    "        pct_comp_outPath = os.path.join(subj_dir_path, pct_comp_name )\n",
    "        \n",
    "        #Store the paths in reference lists\n",
    "        binarizedComp_path_list.append(binarizedComp_outPath)\n",
    "        pct_comp_path_list.append(pct_comp_outPath)\n",
    "        \n",
    "        #Generate the fsl commands\n",
    "        binarization='fslmaths %s -thr %d -thr %d -bin %s' % (idxPath, comp_num,comp_num, binarizedComp_outPath)\n",
    "        multiplication='fslmaths %s -mul %s %s' % (pctPath, binarizedComp_outPath, pct_comp_outPath)\n",
    "        calAvg='echo \"%s,%s,`fslstats %s -M`\" >> %s' % (subj, \"comp_\"+str(comp_num), pct_comp_outPath, csvDump_path)\n",
    "        \n",
    "        #Write the commands to the jobList file\n",
    "        binarize_out.write(binarization+\"\\n\")\n",
    "        mul_out.write(multiplication+\"\\n\")\n",
    "        avgCalc_out.write(calAvg+\"\\n\")\n",
    "\n",
    "\n",
    "\n",
    "#Close the jobList output stream\n",
    "binarize_out.close()\n",
    "mul_out.close()\n",
    "avgCalc_out.close()\n",
    "print \"\\nFinished writing to joblist file\"\n",
    "print \"\\nReference lists created:\"\n",
    "print \"\\tbinarizedComp_path_list - length: %d\" % len(binarizedComp_path_list)\n",
    "print \"\\tpct_comp_path_list - length: %d\" % len(pct_comp_path_list)\n",
    "print \"\\tindv_csv_path_list - length: %d\" % len(indv_csv_path_list)"
   ]
  },
  {
   "cell_type": "code",
   "execution_count": 137,
   "metadata": {
    "collapsed": false
   },
   "outputs": [
    {
     "name": "stdout",
     "output_type": "stream",
     "text": [
      "Submitting binarization job (step 1):\n",
      "qbatch -w 00:30:00 -c 1 /data/chamal/projects/anthony/qbatch_jobDocs/track_analysis_related/autoSubmit_seg10_tract_compWinPct_pt1-binarize.sub\n",
      "\n",
      "Waiting for step 1 to finish...\n",
      "All output files from previous step found!\n",
      "\n",
      "Submitting multiplication job (step 2):\n",
      "qbatch -w 00:30:00 -c 1 /data/chamal/projects/anthony/qbatch_jobDocs/track_analysis_related/autoSubmit_seg10_tract_compWinPct_pt2-multiply.sub\n"
     ]
    },
    {
     "ename": "SystemExit",
     "evalue": "",
     "output_type": "error",
     "traceback": [
      "An exception has occurred, use %tb to see the full traceback.\n",
      "\u001b[0;31mSystemExit\u001b[0m\n"
     ]
    }
   ],
   "source": [
    "# ==================================================================\n",
    "# Optionally submit the job sequentially to the cluster\n",
    "# ==================================================================\n",
    "\n",
    "######## Qbatch specifics ########\n",
    "SUBMIT = True\n",
    "#For the 1st and 2nd job (normal)\n",
    "CHUNKSIZE = '1' #Need each 3 lines to run sequentially\n",
    "WALLTIME = '00:30:00'\n",
    "#For the 3rd job\n",
    "CHUNKSIZE_3 = str(SEG_NUM) #Each job will be for individual subjects\n",
    "PPJ_3 = \"4\" #Needs more memory than usual\n",
    "\"\"\"This should take ~2min per line, so each job should be SEG_NUM*2min long? (guesstimated, may be shorter)\"\"\"\n",
    "\n",
    "\n",
    "#Function to wait until the previous step has been completed\n",
    "def waitLoop(prev_output_paths):\n",
    "    #Infinite loop\n",
    "    while True:\n",
    "        #Check if all output files from previous step is present\n",
    "        allFilesPresent = True\n",
    "        for path in prev_output_paths:\n",
    "            if os.path.isfile(path) != True:\n",
    "                allFilesPresent = False\n",
    "        #Either break loop or continue waiting\n",
    "        if allFilesPresent:\n",
    "            break\n",
    "        else:\n",
    "            time.sleep(5) #Currently checks every 5 seconds\n",
    "    print \"All output files from previous step found!\"\n",
    "            \n",
    "            \n",
    "#Automatically submit all 3 jobList files sequentially\n",
    "if SUBMIT:\n",
    "    ######## Step 1: submit the binarization files ########\n",
    "    print \"Submitting binarization job (step 1):\"\n",
    "    cmd = ['qbatch','-w',WALLTIME, '-c',CHUNKSIZE, binarize_outPath]\n",
    "    print ' '.join(cmd)\n",
    "    subprocess.call(cmd)\n",
    "    \n",
    "    ####### Step 2: submit the multiplciation files #######\n",
    "    #Wait until the previous jobs have been completed\n",
    "    print \"\\nWaiting for step 1 to finish...\"\n",
    "    waitLoop(binarizedComp_path_list)\n",
    "    #Submit step 2\n",
    "    print \"\\nSubmitting multiplication job (step 2):\"\n",
    "    cmd = ['qbatch','-w',WALLTIME, '-c',CHUNKSIZE, mul_outPath]\n",
    "    print ' '.join(cmd)\n",
    "    subprocess.call(cmd)\n",
    "    \n",
    "    sys.exit() #TODO: temp solution because the last steps always messes up\n",
    "                #Will do last submission locally manually\n",
    "    \n",
    "    ####### Step 3: submit the fslstats average calculation #######\n",
    "    #Wait until the previous jobs have been completed\n",
    "    print \"\\nWaiting for step 2 to finish...\"\n",
    "    waitLoop(pct_comp_path_list)\n",
    "    #Submit step 3\n",
    "    print \"\\nSubmitting average calculation job (step 3):\"\n",
    "    cmd = ['qbatch', '-c', CHUNKSIZE_3, '--ppj', PPJ_3, avgCalc_outPath]\n",
    "    print ' '.join(cmd)\n",
    "    subprocess.call(cmd)\n",
    "    print\n",
    "else:\n",
    "    print \"Auto-submit not enabled. Skipping over current code block.\"\n",
    "    \n",
    "\n",
    "print \"Done\"    "
   ]
  },
  {
   "cell_type": "code",
   "execution_count": 97,
   "metadata": {
    "collapsed": false
   },
   "outputs": [
    {
     "name": "stdout",
     "output_type": "stream",
     "text": [
      "The below block is independent, other than for the first (module import) block\n"
     ]
    }
   ],
   "source": [
    "####################################################################\n",
    "# ==================================================================\n",
    "\"\"\" =================== DEPENDENCY SEPARATOR =================== \"\"\"\n",
    "# ==================================================================\n",
    "####################################################################\n",
    "print \"The below block is independent, other than for the first (module import) block\""
   ]
  },
  {
   "cell_type": "code",
   "execution_count": 117,
   "metadata": {
    "collapsed": false
   },
   "outputs": [
    {
     "name": "stdout",
     "output_type": "stream",
     "text": [
      "File paths found: 0\n"
     ]
    },
    {
     "ename": "IndexError",
     "evalue": "list index out of range",
     "output_type": "error",
     "traceback": [
      "\u001b[0;31m---------------------------------------------------------------------------\u001b[0m",
      "\u001b[0;31mIndexError\u001b[0m                                Traceback (most recent call last)",
      "\u001b[0;32m<ipython-input-117-a3b4929770b5>\u001b[0m in \u001b[0;36m<module>\u001b[0;34m()\u001b[0m\n\u001b[1;32m     33\u001b[0m \u001b[0;34m\u001b[0m\u001b[0m\n\u001b[1;32m     34\u001b[0m \u001b[0;32mprint\u001b[0m \u001b[0;34m\"File paths found: %d\"\u001b[0m \u001b[0;34m%\u001b[0m \u001b[0mlen\u001b[0m\u001b[0;34m(\u001b[0m\u001b[0mindv_csv_paths\u001b[0m\u001b[0;34m)\u001b[0m\u001b[0;34m\u001b[0m\u001b[0m\n\u001b[0;32m---> 35\u001b[0;31m \u001b[0;32mprint\u001b[0m \u001b[0;34m\"\\nFirst path is: %s\"\u001b[0m \u001b[0;34m%\u001b[0m \u001b[0mindv_csv_paths\u001b[0m\u001b[0;34m[\u001b[0m\u001b[0;36m0\u001b[0m\u001b[0;34m]\u001b[0m\u001b[0;34m\u001b[0m\u001b[0m\n\u001b[0m\u001b[1;32m     36\u001b[0m \u001b[0;32mprint\u001b[0m \u001b[0;34m\"\\nLast path is: %s\"\u001b[0m \u001b[0;34m%\u001b[0m \u001b[0mindv_csv_paths\u001b[0m\u001b[0;34m[\u001b[0m\u001b[0;34m-\u001b[0m\u001b[0;36m1\u001b[0m\u001b[0;34m]\u001b[0m\u001b[0;34m\u001b[0m\u001b[0m\n",
      "\u001b[0;31mIndexError\u001b[0m: list index out of range"
     ]
    }
   ],
   "source": [
    "# ==================================================================\n",
    "# Set up input directories and paths\n",
    "# *currently dependent on the prev file input block\n",
    "# *can simply take away the right-hand-side variables for manual input\n",
    "# ==================================================================\n",
    "\"\"\"Notes on file formats\n",
    "- The 2nd col of the .csv file ALWAYS specifies the component #\n",
    "    - Specified as a string\n",
    "    - Needs to be the same for all subj's same components\n",
    "- The 3rd col of the .csv file ALWAYS specifies the mean\n",
    "    - It needs to be able to be converted to a float\n",
    "\"\"\"\n",
    "#Additional imports\n",
    "import csv\n",
    "import numpy as np\n",
    "import seaborn as sns\n",
    "import matplotlib.pyplot as plt\n",
    "\n",
    "#specify parcellation quantity\n",
    "SEG_NUM = 6\n",
    "\n",
    "#Paths set-up\n",
    "indv_csv_dir = '/data/chamal/projects/anthony/nmf_parcellation/cortical_tractMap/seg'+str(SEG_NUM)+'_tract2voxel_probability_labels/tractAnalysis_model_space'\n",
    "indv_csv_wc = \"*seg\"+str(SEG_NUM)+\"_avgComponentWinPct_dump.csv\"\n",
    "\n",
    "# ==================================================================\n",
    "# Find and initiate input files\n",
    "# ==================================================================\n",
    "\n",
    "#Locate and sort file paths \n",
    "indv_csv_paths = glob.glob(os.path.join(indv_csv_dir, indv_csv_wc))\n",
    "indv_csv_paths.sort()\n",
    "\n",
    "print \"File paths found: %d\" % len(indv_csv_paths)\n",
    "print \"\\nFirst path is: %s\" % indv_csv_paths[0]\n",
    "print \"\\nLast path is: %s\" % indv_csv_paths[-1]"
   ]
  },
  {
   "cell_type": "code",
   "execution_count": 115,
   "metadata": {
    "collapsed": false
   },
   "outputs": [
    {
     "name": "stdout",
     "output_type": "stream",
     "text": [
      "Initiating .csv file contents...\n",
      "Sorting component lexographically...\n",
      "\n",
      "Done. Below are the components and length of lists for each:\n",
      "\tcomp_1\tLength: 100\n",
      "\tcomp_2\tLength: 100\n",
      "\tcomp_3\tLength: 100\n",
      "\tcomp_4\tLength: 100\n",
      "\tcomp_5\tLength: 100\n"
     ]
    }
   ],
   "source": [
    "# ==================================================================\n",
    "# Find and initiate input files\n",
    "# ==================================================================\n",
    "\"\"\"Variable hierarchy\n",
    "tractWinPct\n",
    "    |\n",
    "    [0]-- component 1's tract win pct\n",
    "            (this is a list of average winPct in float)\n",
    "\"\"\"\n",
    "\n",
    "#Initiate a dictionary \n",
    "tractWinPct_unordered = {}\n",
    "\n",
    "#Iterate through each subject's csv file\n",
    "print \"Initiating .csv file contents...\"\n",
    "for csv_path in indv_csv_paths:\n",
    "    #Open the file and initate reader\n",
    "    csvfile = open(csv_path, 'rb')\n",
    "    reader = csv.reader(csvfile)\n",
    "    #Iterate through each row of the csv file\n",
    "    for row in reader:\n",
    "        #If the component num has not been initiated, initiate the key\n",
    "        if row[1] not in tractWinPct_unordered:\n",
    "            tractWinPct_unordered[row[1]] = [float(row[2])]\n",
    "        #Else, concatenate the mean onto the list\n",
    "        else:\n",
    "            tractWinPct_unordered[row[1]].append(float(row[2]))\n",
    "\n",
    "#Initiate a sorted dictionary\n",
    "print \"Sorting component lexographically...\"\n",
    "tractWinPct = collections.OrderedDict(sorted(tractWinPct_unordered.items()))\n",
    "\n",
    "#Let user know\n",
    "print \"\\nDone. Below are the components and length of lists for each:\"\n",
    "for key in tractWinPct:\n",
    "    print \"\\t%s\\tLength: %d\" % (key, len(tractWinPct[key]))"
   ]
  },
  {
   "cell_type": "code",
   "execution_count": 116,
   "metadata": {
    "collapsed": false
   },
   "outputs": [
    {
     "data": {
      "image/png": "[encoded data removed]",
      "text/plain": [
       "<matplotlib.figure.Figure at 0x7f103311d890>"
      ]
     },
     "metadata": {},
     "output_type": "display_data"
    }
   ],
   "source": [
    "# ==================================================================\n",
    "# Plots and shit\n",
    "# ==================================================================\n",
    "data = []\n",
    "for key in tractWinPct:\n",
    "    data.append(tractWinPct[key])\n",
    "\n",
    "plt.figure()\n",
    "plt.boxplot(data)\n",
    "plt.show()"
   ]
  },
  {
   "cell_type": "code",
   "execution_count": null,
   "metadata": {
    "collapsed": true
   },
   "outputs": [],
   "source": []
  }
 ],
 "metadata": {
  "kernelspec": {
   "display_name": "Python 2",
   "language": "python",
   "name": "python2"
  },
  "language_info": {
   "codemirror_mode": {
    "name": "ipython",
    "version": 2
   },
   "file_extension": ".py",
   "mimetype": "text/x-python",
   "name": "python",
   "nbconvert_exporter": "python",
   "pygments_lexer": "ipython2",
   "version": "2.7.13"
  }
 },
 "nbformat": 4,
 "nbformat_minor": 2
}

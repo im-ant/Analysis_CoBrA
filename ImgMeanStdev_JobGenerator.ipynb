{
 "cells": [
  {
   "cell_type": "code",
   "execution_count": 24,
   "metadata": {
    "collapsed": true
   },
   "outputs": [],
   "source": [
    "# ==================================================================\n",
    "# Script to generate jobs for image means and stdev\n",
    "# ==================================================================\n",
    "\n",
    "import os\n",
    "import sys\n",
    "import glob #for wildcard matching\n",
    "import time\n",
    "import subprocess\n",
    "import nibabel as nib\n",
    "import numpy as np\n",
    "\n",
    "#Import my own library\n",
    "sys.path.append('/data/chamal/projects/anthony/Analysis_CoBrA/')\n",
    "import NiiImgUtils as IU"
   ]
  },
  {
   "cell_type": "code",
   "execution_count": 25,
   "metadata": {
    "collapsed": false
   },
   "outputs": [
    {
     "name": "stdout",
     "output_type": "stream",
     "text": [
      "All is good\n"
     ]
    }
   ],
   "source": [
    "\"\"\"Anthony's notes\n",
    "- Note that my own library ('NiiImgUtils') must be imported (as 'IU')\n",
    "\n",
    "\"\"\"\n",
    "print \"All is good\""
   ]
  },
  {
   "cell_type": "code",
   "execution_count": 26,
   "metadata": {
    "collapsed": true
   },
   "outputs": [],
   "source": [
    "# ==================================================================\n",
    "# Setup the directories\n",
    "# ==================================================================\n",
    "\n",
    "\"\"\" Note on directory hierarchy for the input, reference and transform files \n",
    "parent_dir\n",
    "    |\n",
    "    +-- subj_dir_1 (as indicated by dir_wc)\n",
    "    |        |\n",
    "    |        +- file_of_interest (as indicated by file_wc)\n",
    "    |\n",
    "    +-- subj_dir_2 ...\n",
    "\"\"\"\n",
    "\n",
    "# ========================================\n",
    "# Input related\n",
    "# ========================================\n",
    "in_parent_dir='/data/chamal/projects/anthony/nmf_parcellation/cortical_tractMap/seg5_tract2voxel_probability_labels/model_space'\n",
    "in_dir_wc='[0-9][0-9][0-9][0-9][0-9][0-9]'\n",
    "in_file_wc='*_region_seg_pct_modelSpace.nii.gz'\n",
    "\n",
    "# ========================================\n",
    "# Output related\n",
    "# ========================================\n",
    "# Output file paths\n",
    "mean_out_path= os.path.join(in_parent_dir,'seg5_winPct_avg_modelSpace.nii.gz')\n",
    "stdev_out_path=os.path.join(in_parent_dir,'seg5_winPct_stdev_modelSpace.nii.gz')\n",
    "# Job document paths\n",
    "jobDoc_dir='/data/chamal/projects/anthony/qbatch_jobDocs'\n",
    "jobDoc_name='seg5_winPct_meanStdev_jobDoc.sh'\n",
    "jobList_name='autoSumbit_seg5_winPct_meanStdev_jobList.sub'"
   ]
  },
  {
   "cell_type": "code",
   "execution_count": 27,
   "metadata": {
    "collapsed": false
   },
   "outputs": [
    {
     "name": "stdout",
     "output_type": "stream",
     "text": [
      "File initilization stats:\n",
      "\tTotal input files: 100\n"
     ]
    }
   ],
   "source": [
    "# ====================================================================\n",
    "# Find and save the filenames into lists\n",
    "# ====================================================================\n",
    "#### Initilize and save input files\n",
    "in_file_list=glob.glob(os.path.join(in_parent_dir,in_dir_wc,in_file_wc))\n",
    "in_file_list.sort()\n",
    "\n",
    "\n",
    "#Printout\n",
    "print \"File initilization stats:\"\n",
    "print \"\\tTotal input files: %d\" % len(in_file_list)\n"
   ]
  },
  {
   "cell_type": "code",
   "execution_count": 48,
   "metadata": {
    "collapsed": false
   },
   "outputs": [
    {
     "name": "stdout",
     "output_type": "stream",
     "text": [
      "Opening image...\n",
      "(258, 310, 258)\n",
      "<class 'nibabel.nifti1.Nifti1Image'>\n",
      "\n",
      "Some image data:\n",
      "[[  -0.69999999   -0.            0.           90.        ]\n",
      " [  -0.            0.69999999   -0.         -126.        ]\n",
      " [   0.            0.            0.69999999  -72.        ]\n",
      " [   0.            0.            0.            1.        ]]\n",
      "float64\n",
      "\n",
      "Getting data...\n",
      "<type 'numpy.ndarray'>\n",
      "(258, 310, 258)\n",
      "\n",
      "Sizes of data...\n",
      "64\n",
      "128\n",
      "\n",
      "Writing data..\n",
      "(258, 310, 258)\n",
      "<class 'nibabel.nifti1.Nifti1Image'>\n",
      "[[  -0.69999999   -0.            0.           90.        ]\n",
      " [  -0.            0.69999999   -0.         -126.        ]\n",
      " [   0.            0.            0.69999999  -72.        ]\n",
      " [   0.            0.            0.            1.        ]]\n",
      "float64\n"
     ]
    }
   ],
   "source": [
    "# ==\n",
    "# Playground - this is the general workflow I have to follow\n",
    "# ==\n",
    "print \"Opening image...\"\n",
    "img = nib.load(in_file_list[0])\n",
    "print img.shape\n",
    "print type(img)\n",
    "print \"\\nSome image data:\"\n",
    "#print img.header\n",
    "#TODO: ask chris if a header is very important for generating and\n",
    "#    viewing images\n",
    "print img.affine\n",
    "print img.get_data_dtype()\n",
    "\n",
    "print \"\\nGetting data...\"\n",
    "data = img.get_data()\n",
    "print type(data)\n",
    "print np.shape(data)\n",
    "\n",
    "print \"\\nSizes of data...\"\n",
    "print sys.getsizeof(img)\n",
    "print sys.getsizeof(data)\n",
    "\n",
    "\"\"\"Anthony's note to self:\n",
    "Seems like the files aren't too large, only ~128\n",
    "\"\"\"\n",
    "\n",
    "\n",
    "print \"\\nWriting data..\"\n",
    "out_img = nib.Nifti1Image(data, img.affine)\n",
    "print out_img.shape\n",
    "print type(out_img)\n",
    "print out_img.affine\n",
    "print out_img.get_data_dtype()\n",
    "# Actual write line file:\n",
    "#out_img.to_filename(mean_out_path)"
   ]
  },
  {
   "cell_type": "code",
   "execution_count": null,
   "metadata": {
    "collapsed": true
   },
   "outputs": [],
   "source": []
  }
 ],
 "metadata": {
  "kernelspec": {
   "display_name": "Python 2",
   "language": "python",
   "name": "python2"
  },
  "language_info": {
   "codemirror_mode": {
    "name": "ipython",
    "version": 2
   },
   "file_extension": ".py",
   "mimetype": "text/x-python",
   "name": "python",
   "nbconvert_exporter": "python",
   "pygments_lexer": "ipython2",
   "version": "2.7.13"
  }
 },
 "nbformat": 4,
 "nbformat_minor": 2
}

{
 "cells": [
  {
   "cell_type": "code",
   "execution_count": 11,
   "metadata": {
    "collapsed": false
   },
   "outputs": [],
   "source": [
    "# ==================================================================\n",
    "# Script to generate jobs for image means and stdev\n",
    "# ==================================================================\n",
    "\n",
    "import os\n",
    "import sys\n",
    "import glob #for wildcard matching\n",
    "import time\n",
    "import subprocess\n",
    "import nibabel as nib\n",
    "import numpy as np\n",
    "\n",
    "#Import my own library\n",
    "sys.path.append('/data/chamal/projects/anthony/Analysis_CoBrA/')\n",
    "import NiiImgUtils as IU"
   ]
  },
  {
   "cell_type": "code",
   "execution_count": 12,
   "metadata": {
    "collapsed": false
   },
   "outputs": [
    {
     "name": "stdout",
     "output_type": "stream",
     "text": [
      "All is good\n"
     ]
    }
   ],
   "source": [
    "\"\"\"Anthony's notes\n",
    "- Note that my own library ('NiiImgUtils') must be imported (as 'IU')\n",
    "\n",
    "\"\"\"\n",
    "print \"All is good\""
   ]
  },
  {
   "cell_type": "code",
   "execution_count": 18,
   "metadata": {
    "collapsed": true
   },
   "outputs": [],
   "source": [
    "# ==================================================================\n",
    "# Setup the directories\n",
    "# ==================================================================\n",
    "\n",
    "\"\"\" Note on directory hierarchy for the input, reference and transform files \n",
    "parent_dir\n",
    "    |\n",
    "    +-- subj_dir_1 (as indicated by dir_wc)\n",
    "    |        |\n",
    "    |        +- file_of_interest (as indicated by file_wc)\n",
    "    |\n",
    "    +-- subj_dir_2 ...\n",
    "\"\"\"\n",
    "\n",
    "#Temp variable for how many segs - take off in the future for generalized use\n",
    "seg_num = '10' #TODO: delete for generalized use!\n",
    "# ========================================\n",
    "# Input related\n",
    "# ========================================\n",
    "in_parent_dir='/data/chamal/projects/anthony/nmf_parcellation/cortical_tractMap/seg'+seg_num+'_tract2voxel_probability_labels/model_space'\n",
    "in_dir_wc='[0-9][0-9][0-9][0-9][0-9][0-9]'\n",
    "in_file_wc='*_region_seg_pct_modelSpace.nii.gz'\n",
    "\n",
    "# ========================================\n",
    "# Output related\n",
    "# ========================================\n",
    "# Output file paths\n",
    "mean_out_path= os.path.join(in_parent_dir,'seg'+seg_num+'_winPct_avg_modelSpace.nii.gz')\n",
    "stdev_out_path=os.path.join(in_parent_dir,'seg'+seg_num+'_winPct_stdev_modelSpace.nii.gz')\n",
    "# Job document paths\n",
    "jobDoc_dir='/data/chamal/projects/anthony/qbatch_jobDocs'\n",
    "jobList_name='autoSubmit_seg5_winPct_meanStdev_jobList.sub'\n",
    "jobScript_stdev_name='autoSubmit_seg5_winPct_meanStdev_jobScript.py'"
   ]
  },
  {
   "cell_type": "code",
   "execution_count": 19,
   "metadata": {
    "collapsed": false
   },
   "outputs": [
    {
     "name": "stdout",
     "output_type": "stream",
     "text": [
      "File initilization stats:\n",
      "\tTotal input files: 100\n"
     ]
    }
   ],
   "source": [
    "# ====================================================================\n",
    "# Find and save the filenames into lists\n",
    "# ====================================================================\n",
    "#### Initilize and save input files paths\n",
    "in_file_list=glob.glob(os.path.join(in_parent_dir,in_dir_wc,in_file_wc))\n",
    "in_file_list.sort()\n",
    "\n",
    "\n",
    "#Printout\n",
    "print \"File initilization stats:\"\n",
    "print \"\\tTotal input files: %d\" % len(in_file_list)\n"
   ]
  },
  {
   "cell_type": "code",
   "execution_count": 7,
   "metadata": {
    "collapsed": false,
    "scrolled": false
   },
   "outputs": [
    {
     "name": "stdout",
     "output_type": "stream",
     "text": [
      "Opening mean image...\n",
      "Initializing & processing first image...\n",
      "Processing image data, subject 2 out of 3; "
     ]
    },
    {
     "ename": "TypeError",
     "evalue": "'numpy.ndarray' object is not callable",
     "output_type": "error",
     "traceback": [
      "\u001b[0;31m---------------------------------------------------------------------------\u001b[0m",
      "\u001b[0;31mTypeError\u001b[0m                                 Traceback (most recent call last)",
      "\u001b[0;32m<ipython-input-7-10749329e9d1>\u001b[0m in \u001b[0;36m<module>\u001b[0;34m()\u001b[0m\n\u001b[0;32m----> 1\u001b[0;31m \u001b[0mIU\u001b[0m\u001b[0;34m.\u001b[0m\u001b[0mmultiSubj_stdev_iterative\u001b[0m\u001b[0;34m(\u001b[0m\u001b[0min_file_list\u001b[0m\u001b[0;34m[\u001b[0m\u001b[0;36m0\u001b[0m\u001b[0;34m:\u001b[0m\u001b[0;36m3\u001b[0m\u001b[0;34m]\u001b[0m\u001b[0;34m,\u001b[0m\u001b[0mmean_out_path\u001b[0m\u001b[0;34m,\u001b[0m \u001b[0mstdev_out_path\u001b[0m\u001b[0;34m)\u001b[0m\u001b[0;34m\u001b[0m\u001b[0m\n\u001b[0m",
      "\u001b[0;32m/data/chamal/projects/anthony/Analysis_CoBrA/NiiImgUtils.py\u001b[0m in \u001b[0;36mmultiSubj_stdev_iterative\u001b[0;34m(subj_list, mean_path, stdev_path)\u001b[0m\n\u001b[1;32m    148\u001b[0m         \u001b[0;31m#Open image, calculate square difference and store in index 1 of the 4th dimension\u001b[0m\u001b[0;34m\u001b[0m\u001b[0;34m\u001b[0m\u001b[0m\n\u001b[1;32m    149\u001b[0m         \u001b[0mcurr_img\u001b[0m \u001b[0;34m=\u001b[0m \u001b[0mnib\u001b[0m\u001b[0;34m.\u001b[0m\u001b[0mload\u001b[0m\u001b[0;34m(\u001b[0m\u001b[0msubj_file\u001b[0m\u001b[0;34m)\u001b[0m\u001b[0;34m\u001b[0m\u001b[0m\n\u001b[0;32m--> 150\u001b[0;31m         \u001b[0mcalc_matrix\u001b[0m\u001b[0;34m[\u001b[0m\u001b[0;34m:\u001b[0m\u001b[0;34m,\u001b[0m\u001b[0;34m:\u001b[0m\u001b[0;34m,\u001b[0m\u001b[0;34m:\u001b[0m\u001b[0;34m,\u001b[0m\u001b[0;36m1\u001b[0m\u001b[0;34m]\u001b[0m \u001b[0;34m=\u001b[0m \u001b[0mnp\u001b[0m\u001b[0;34m.\u001b[0m\u001b[0mpower\u001b[0m\u001b[0;34m(\u001b[0m \u001b[0mnp\u001b[0m\u001b[0;34m.\u001b[0m\u001b[0msubtract\u001b[0m\u001b[0;34m(\u001b[0m\u001b[0mcurr_img\u001b[0m\u001b[0;34m.\u001b[0m\u001b[0mget_data\u001b[0m\u001b[0;34m(\u001b[0m\u001b[0;34m)\u001b[0m\u001b[0;34m,\u001b[0m \u001b[0mmean_matrix\u001b[0m\u001b[0;34m(\u001b[0m\u001b[0;34m)\u001b[0m\u001b[0;34m)\u001b[0m \u001b[0;34m,\u001b[0m \u001b[0;36m2\u001b[0m \u001b[0;34m)\u001b[0m\u001b[0;34m\u001b[0m\u001b[0m\n\u001b[0m\u001b[1;32m    151\u001b[0m         \u001b[0;31m#Sum the image and store the value in index 0 of the 4th dimension\u001b[0m\u001b[0;34m\u001b[0m\u001b[0;34m\u001b[0m\u001b[0m\n\u001b[1;32m    152\u001b[0m         \u001b[0mcalc_matrix\u001b[0m\u001b[0;34m[\u001b[0m\u001b[0;34m:\u001b[0m\u001b[0;34m,\u001b[0m\u001b[0;34m:\u001b[0m\u001b[0;34m,\u001b[0m\u001b[0;34m:\u001b[0m\u001b[0;34m,\u001b[0m\u001b[0;36m0\u001b[0m\u001b[0;34m]\u001b[0m \u001b[0;34m=\u001b[0m \u001b[0mnp\u001b[0m\u001b[0;34m.\u001b[0m\u001b[0msum\u001b[0m\u001b[0;34m(\u001b[0m\u001b[0mcalc_matrix\u001b[0m\u001b[0;34m,\u001b[0m \u001b[0maxis\u001b[0m\u001b[0;34m=\u001b[0m\u001b[0;36m3\u001b[0m\u001b[0;34m)\u001b[0m\u001b[0;34m\u001b[0m\u001b[0m\n",
      "\u001b[0;31mTypeError\u001b[0m: 'numpy.ndarray' object is not callable"
     ]
    }
   ],
   "source": [
    "IU.multiSubj_stdev_iterative(in_file_list[0:3],mean_out_path, stdev_out_path)"
   ]
  },
  {
   "cell_type": "code",
   "execution_count": 9,
   "metadata": {
    "collapsed": true
   },
   "outputs": [],
   "source": [
    "# ====================================================================\n",
    "# Generate job items for stdev calculation\n",
    "# ====================================================================\n",
    "SUBMIT = True\n",
    "# Qbatch specs (if auto-submit is True above)\n",
    "WALLTIME = '05:00:00'\n",
    "CHUNKSIZE = '1' #Default = 1, keep at 1 if possible\n",
    "PROCESSOR_PER_JOB = '14' #Increase both processing power (if multithreading possible) and RAM (1.75GB per processor)\n",
    "\n",
    "\n",
    "# Path to the directory containing the library that calculates stdev (written by Anthony)\n",
    "stdev_calculation_lib_dir = \"/data/chamal/projects/anthony/Analysis_CoBrA/\"\n",
    "\n",
    "####### Generate the python script to be called ########\n",
    "jobScript_path = os.path.join(jobDoc_dir, jobScript_stdev_name)\n",
    "with open(jobScript_path,'w') as script_outStream:\n",
    "    #Import modules\n",
    "    script_outStream.write(\"import sys \\n\")\n",
    "    script_outStream.write(\"sys.path.append('%s') \\n\" % stdev_calculation_lib_dir) \n",
    "    script_outStream.write(\"import NiiImgUtils as IU \\n\")\n",
    "    #Append the list of subject file paths\n",
    "    script_outStream.write(\"\\nsubj_list = []\\n\")\n",
    "    for subj_file in in_file_list:\n",
    "        script_outStream.write(\"subj_list.append('%s')\\n\" % subj_file)\n",
    "    #Call the function for mean and standard deviation\n",
    "    script_outStream.write(\"\\nIU.multiSubj_stdev_wholeBrain(subj_list,'%s')\\n\"%stdev_out_path)\n",
    "\n",
    "####### Generate the command that calls the python script ########\n",
    "jobList_path = os.path.join(jobDoc_dir, jobList_name)\n",
    "with open(jobList_path,'w') as jobList_outStream:\n",
    "    jobList_outStream.write(\"python %s\" % jobScript_path)\n",
    "\n",
    "\n",
    "####### Submit the job if indicated ########\n",
    "if SUBMIT == True:\n",
    "    cmd = ['qbatch','-w',WALLTIME, '-c',CHUNKSIZE, '--ppj', PROCESSOR_PER_JOB, jobList_path]\n",
    "    subprocess.call(cmd)\n"
   ]
  },
  {
   "cell_type": "code",
   "execution_count": 21,
   "metadata": {
    "collapsed": false
   },
   "outputs": [
    {
     "name": "stdout",
     "output_type": "stream",
     "text": [
      "Initializing subject 1 / reference subject...\n",
      "Processing image data, subject 100 out of 100; \n",
      "Calculating overall average...\n",
      "Writing to output file...\n",
      "Done!\n"
     ]
    }
   ],
   "source": [
    "# ====================================================================\n",
    "# Calculate the voxel-wise mean as it is faster\n",
    "# ====================================================================\n",
    "\n",
    "IU.multiSubj_mean(in_file_list,mean_out_path)"
   ]
  },
  {
   "cell_type": "code",
   "execution_count": null,
   "metadata": {
    "collapsed": true
   },
   "outputs": [],
   "source": []
  }
 ],
 "metadata": {
  "kernelspec": {
   "display_name": "Python 2",
   "language": "python",
   "name": "python2"
  },
  "language_info": {
   "codemirror_mode": {
    "name": "ipython",
    "version": 2
   },
   "file_extension": ".py",
   "mimetype": "text/x-python",
   "name": "python",
   "nbconvert_exporter": "python",
   "pygments_lexer": "ipython2",
   "version": "2.7.13"
  }
 },
 "nbformat": 4,
 "nbformat_minor": 2
}
